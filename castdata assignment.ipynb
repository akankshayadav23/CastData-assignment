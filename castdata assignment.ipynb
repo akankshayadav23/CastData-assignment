{
 "cells": [
  {
   "cell_type": "code",
   "execution_count": 4,
   "id": "042ef312",
   "metadata": {},
   "outputs": [],
   "source": [
    "import pandas as pd"
   ]
  },
  {
   "cell_type": "code",
   "execution_count": 5,
   "id": "d26205da",
   "metadata": {},
   "outputs": [],
   "source": [
    "def read_data():\n",
    "    data = pd.read_csv(\"Downloads/cast.csv\")\n",
    "    return data"
   ]
  },
  {
   "cell_type": "code",
   "execution_count": 6,
   "id": "78a90c99",
   "metadata": {},
   "outputs": [
    {
     "name": "stdout",
     "output_type": "stream",
     "text": [
      "                                    title  year                         name  \\\n",
      "0                          Closet Monster  2015                     Buffy #1   \n",
      "1                         Suuri illusioni  1985                       Homo $   \n",
      "2                     Battle of the Sexes  2017                      $hutter   \n",
      "3                    Secret in Their Eyes  2015                      $hutter   \n",
      "4                              Steve Jobs  2015                      $hutter   \n",
      "...                                   ...   ...                          ...   \n",
      "3611207                           Foxtrot  1988            Lilja ??risd?ttir   \n",
      "3611208  Niceland (Population. 1.000.002)  2004    Sigr??ur J?na ??risd?ttir   \n",
      "3611209                         Skammdegi  1985           Dalla ??r?ard?ttir   \n",
      "3611210                      U.S.S.S.S...  2003  Krist?n Andrea ??r?ard?ttir   \n",
      "3611211                 Bye Bye Blue Bird  1999                 Rosa ? R?gvu   \n",
      "\n",
      "            type                character     n  \n",
      "0          actor                  Buffy 4   NaN  \n",
      "1          actor                   Guests  22.0  \n",
      "2          actor          Bobby Riggs Fan  10.0  \n",
      "3          actor          2002 Dodger Fan   NaN  \n",
      "4          actor  1988 Opera House Patron   NaN  \n",
      "...          ...                      ...   ...  \n",
      "3611207  actress                     D?ra  24.0  \n",
      "3611208  actress             Woman in Bus  26.0  \n",
      "3611209  actress            Hj?krunarkona   9.0  \n",
      "3611210  actress   Afgr.dama ? bens?nst??  17.0  \n",
      "3611211  actress        Pensionatv?rtinde   NaN  \n",
      "\n",
      "[3611212 rows x 6 columns]\n"
     ]
    }
   ],
   "source": [
    "data = read_data()\n",
    "print(data)"
   ]
  },
  {
   "cell_type": "code",
   "execution_count": 8,
   "id": "d638e57c",
   "metadata": {},
   "outputs": [
    {
     "data": {
      "text/html": [
       "<div>\n",
       "<style scoped>\n",
       "    .dataframe tbody tr th:only-of-type {\n",
       "        vertical-align: middle;\n",
       "    }\n",
       "\n",
       "    .dataframe tbody tr th {\n",
       "        vertical-align: top;\n",
       "    }\n",
       "\n",
       "    .dataframe thead th {\n",
       "        text-align: right;\n",
       "    }\n",
       "</style>\n",
       "<table border=\"1\" class=\"dataframe\">\n",
       "  <thead>\n",
       "    <tr style=\"text-align: right;\">\n",
       "      <th></th>\n",
       "      <th>title</th>\n",
       "      <th>year</th>\n",
       "      <th>name</th>\n",
       "      <th>type</th>\n",
       "      <th>character</th>\n",
       "      <th>n</th>\n",
       "    </tr>\n",
       "  </thead>\n",
       "  <tbody>\n",
       "    <tr>\n",
       "      <th>0</th>\n",
       "      <td>Closet Monster</td>\n",
       "      <td>2015</td>\n",
       "      <td>Buffy #1</td>\n",
       "      <td>actor</td>\n",
       "      <td>Buffy 4</td>\n",
       "      <td>NaN</td>\n",
       "    </tr>\n",
       "    <tr>\n",
       "      <th>1</th>\n",
       "      <td>Suuri illusioni</td>\n",
       "      <td>1985</td>\n",
       "      <td>Homo $</td>\n",
       "      <td>actor</td>\n",
       "      <td>Guests</td>\n",
       "      <td>22.0</td>\n",
       "    </tr>\n",
       "    <tr>\n",
       "      <th>2</th>\n",
       "      <td>Battle of the Sexes</td>\n",
       "      <td>2017</td>\n",
       "      <td>$hutter</td>\n",
       "      <td>actor</td>\n",
       "      <td>Bobby Riggs Fan</td>\n",
       "      <td>10.0</td>\n",
       "    </tr>\n",
       "    <tr>\n",
       "      <th>3</th>\n",
       "      <td>Secret in Their Eyes</td>\n",
       "      <td>2015</td>\n",
       "      <td>$hutter</td>\n",
       "      <td>actor</td>\n",
       "      <td>2002 Dodger Fan</td>\n",
       "      <td>NaN</td>\n",
       "    </tr>\n",
       "    <tr>\n",
       "      <th>4</th>\n",
       "      <td>Steve Jobs</td>\n",
       "      <td>2015</td>\n",
       "      <td>$hutter</td>\n",
       "      <td>actor</td>\n",
       "      <td>1988 Opera House Patron</td>\n",
       "      <td>NaN</td>\n",
       "    </tr>\n",
       "    <tr>\n",
       "      <th>5</th>\n",
       "      <td>Straight Outta Compton</td>\n",
       "      <td>2015</td>\n",
       "      <td>$hutter</td>\n",
       "      <td>actor</td>\n",
       "      <td>Club Patron</td>\n",
       "      <td>NaN</td>\n",
       "    </tr>\n",
       "    <tr>\n",
       "      <th>6</th>\n",
       "      <td>Straight Outta Compton</td>\n",
       "      <td>2015</td>\n",
       "      <td>$hutter</td>\n",
       "      <td>actor</td>\n",
       "      <td>Dopeman</td>\n",
       "      <td>NaN</td>\n",
       "    </tr>\n",
       "    <tr>\n",
       "      <th>7</th>\n",
       "      <td>For Thy Love 2</td>\n",
       "      <td>2009</td>\n",
       "      <td>Bee Moe $lim</td>\n",
       "      <td>actor</td>\n",
       "      <td>Thug 1</td>\n",
       "      <td>NaN</td>\n",
       "    </tr>\n",
       "    <tr>\n",
       "      <th>8</th>\n",
       "      <td>Lapis, Ballpen at Diploma, a True to Life Journey</td>\n",
       "      <td>2014</td>\n",
       "      <td>Jori ' Danilo' Jurado Jr.</td>\n",
       "      <td>actor</td>\n",
       "      <td>Jaime (young)</td>\n",
       "      <td>9.0</td>\n",
       "    </tr>\n",
       "    <tr>\n",
       "      <th>9</th>\n",
       "      <td>Desire (III)</td>\n",
       "      <td>2014</td>\n",
       "      <td>Syaiful 'Ariffin</td>\n",
       "      <td>actor</td>\n",
       "      <td>Actor Playing Eteocles from 'Antigone'</td>\n",
       "      <td>NaN</td>\n",
       "    </tr>\n",
       "  </tbody>\n",
       "</table>\n",
       "</div>"
      ],
      "text/plain": [
       "                                               title  year  \\\n",
       "0                                     Closet Monster  2015   \n",
       "1                                    Suuri illusioni  1985   \n",
       "2                                Battle of the Sexes  2017   \n",
       "3                               Secret in Their Eyes  2015   \n",
       "4                                         Steve Jobs  2015   \n",
       "5                             Straight Outta Compton  2015   \n",
       "6                             Straight Outta Compton  2015   \n",
       "7                                     For Thy Love 2  2009   \n",
       "8  Lapis, Ballpen at Diploma, a True to Life Journey  2014   \n",
       "9                                       Desire (III)  2014   \n",
       "\n",
       "                        name   type                               character  \\\n",
       "0                   Buffy #1  actor                                 Buffy 4   \n",
       "1                     Homo $  actor                                  Guests   \n",
       "2                    $hutter  actor                         Bobby Riggs Fan   \n",
       "3                    $hutter  actor                         2002 Dodger Fan   \n",
       "4                    $hutter  actor                 1988 Opera House Patron   \n",
       "5                    $hutter  actor                             Club Patron   \n",
       "6                    $hutter  actor                                 Dopeman   \n",
       "7               Bee Moe $lim  actor                                  Thug 1   \n",
       "8  Jori ' Danilo' Jurado Jr.  actor                           Jaime (young)   \n",
       "9           Syaiful 'Ariffin  actor  Actor Playing Eteocles from 'Antigone'   \n",
       "\n",
       "      n  \n",
       "0   NaN  \n",
       "1  22.0  \n",
       "2  10.0  \n",
       "3   NaN  \n",
       "4   NaN  \n",
       "5   NaN  \n",
       "6   NaN  \n",
       "7   NaN  \n",
       "8   9.0  \n",
       "9   NaN  "
      ]
     },
     "execution_count": 8,
     "metadata": {},
     "output_type": "execute_result"
    }
   ],
   "source": [
    "data.head(10)"
   ]
  },
  {
   "cell_type": "markdown",
   "id": "2495e146",
   "metadata": {},
   "source": [
    "# Q1 How Many Movies are listed in the titles Dataframe?"
   ]
  },
  {
   "cell_type": "code",
   "execution_count": 11,
   "id": "6c5e59ba",
   "metadata": {},
   "outputs": [
    {
     "name": "stdout",
     "output_type": "stream",
     "text": [
      "3611212\n"
     ]
    }
   ],
   "source": [
    "# using count() function we can get all the count of films listed in titles\n",
    "print(data['title'].count())"
   ]
  },
  {
   "cell_type": "markdown",
   "id": "2a643ba9",
   "metadata": {},
   "source": [
    "# Q2 What are the earliest two films listed in the titles dataframe?"
   ]
  },
  {
   "cell_type": "code",
   "execution_count": 16,
   "id": "09b11ad5",
   "metadata": {},
   "outputs": [
    {
     "data": {
      "text/plain": [
       "0     Closet Monster\n",
       "1    Suuri illusioni\n",
       "Name: title, dtype: object"
      ]
     },
     "execution_count": 16,
     "metadata": {},
     "output_type": "execute_result"
    }
   ],
   "source": [
    "## head(2) will give earliest two films listed\n",
    "data.head(2)\n",
    "## we can also use iloc to just get movie name\n",
    "data.iloc[0:2,0]"
   ]
  },
  {
   "cell_type": "markdown",
   "id": "513471d8",
   "metadata": {},
   "source": [
    "# Q3 How Many Movies Have the title \"Hamlet\""
   ]
  },
  {
   "cell_type": "code",
   "execution_count": 24,
   "id": "b16cbd44",
   "metadata": {},
   "outputs": [
    {
     "name": "stdout",
     "output_type": "stream",
     "text": [
      "313\n"
     ]
    }
   ],
   "source": [
    "Hamlet_count = (data['title']=='Hamlet').sum()\n",
    "print(Hamlet_count)"
   ]
  },
  {
   "cell_type": "markdown",
   "id": "675d71cc",
   "metadata": {},
   "source": [
    "# Q4 How Many movies are title \"North by Northwest\""
   ]
  },
  {
   "cell_type": "code",
   "execution_count": 25,
   "id": "764dc4bf",
   "metadata": {},
   "outputs": [
    {
     "name": "stdout",
     "output_type": "stream",
     "text": [
      "112\n"
     ]
    }
   ],
   "source": [
    "mov = (data['title']=='North by Northwest').sum()\n",
    "print(mov)"
   ]
  },
  {
   "cell_type": "markdown",
   "id": "2b9e724a",
   "metadata": {},
   "source": [
    "# Q5 When was the First movie titled \"Hamlet\" made?"
   ]
  },
  {
   "cell_type": "code",
   "execution_count": 26,
   "id": "b86d479b",
   "metadata": {},
   "outputs": [
    {
     "name": "stdout",
     "output_type": "stream",
     "text": [
      "the first movie titled hamlet was released on : 1910\n"
     ]
    }
   ],
   "source": [
    "hamlet = data[data['title'] == 'Hamlet']\n",
    "hamlet = hamlet.sort_values(by='year')\n",
    "first_hamlet = hamlet.iloc[0]['year']\n",
    "print(\"the first movie titled hamlet was released on :\",first_hamlet)"
   ]
  },
  {
   "cell_type": "markdown",
   "id": "f7d4f925",
   "metadata": {},
   "source": [
    "# Q6 List all of the \"Treasure Island\" movies from earliest to the most recent. "
   ]
  },
  {
   "cell_type": "code",
   "execution_count": 12,
   "id": "10c54b08",
   "metadata": {},
   "outputs": [
    {
     "data": {
      "text/html": [
       "<div>\n",
       "<style scoped>\n",
       "    .dataframe tbody tr th:only-of-type {\n",
       "        vertical-align: middle;\n",
       "    }\n",
       "\n",
       "    .dataframe tbody tr th {\n",
       "        vertical-align: top;\n",
       "    }\n",
       "\n",
       "    .dataframe thead th {\n",
       "        text-align: right;\n",
       "    }\n",
       "</style>\n",
       "<table border=\"1\" class=\"dataframe\">\n",
       "  <thead>\n",
       "    <tr style=\"text-align: right;\">\n",
       "      <th></th>\n",
       "      <th>title</th>\n",
       "      <th>year</th>\n",
       "      <th>name</th>\n",
       "      <th>type</th>\n",
       "      <th>character</th>\n",
       "      <th>n</th>\n",
       "    </tr>\n",
       "  </thead>\n",
       "  <tbody>\n",
       "    <tr>\n",
       "      <th>830114</th>\n",
       "      <td>Treasure Island</td>\n",
       "      <td>1918</td>\n",
       "      <td>Charles Gorman</td>\n",
       "      <td>actor</td>\n",
       "      <td>Prologue Player</td>\n",
       "      <td>NaN</td>\n",
       "    </tr>\n",
       "    <tr>\n",
       "      <th>840745</th>\n",
       "      <td>Treasure Island</td>\n",
       "      <td>1918</td>\n",
       "      <td>Joe Grant</td>\n",
       "      <td>actor</td>\n",
       "      <td>Undetermined child role</td>\n",
       "      <td>NaN</td>\n",
       "    </tr>\n",
       "    <tr>\n",
       "      <th>909157</th>\n",
       "      <td>Treasure Island</td>\n",
       "      <td>1918</td>\n",
       "      <td>Edwin Harley</td>\n",
       "      <td>actor</td>\n",
       "      <td>Prologue Player</td>\n",
       "      <td>NaN</td>\n",
       "    </tr>\n",
       "    <tr>\n",
       "      <th>3298306</th>\n",
       "      <td>Treasure Island</td>\n",
       "      <td>1918</td>\n",
       "      <td>Violet Radcliffe</td>\n",
       "      <td>actress</td>\n",
       "      <td>Long John Silver</td>\n",
       "      <td>3.0</td>\n",
       "    </tr>\n",
       "    <tr>\n",
       "      <th>1715014</th>\n",
       "      <td>Treasure Island</td>\n",
       "      <td>1918</td>\n",
       "      <td>Lloyd Perl</td>\n",
       "      <td>actor</td>\n",
       "      <td>Black Dog</td>\n",
       "      <td>4.0</td>\n",
       "    </tr>\n",
       "    <tr>\n",
       "      <th>...</th>\n",
       "      <td>...</td>\n",
       "      <td>...</td>\n",
       "      <td>...</td>\n",
       "      <td>...</td>\n",
       "      <td>...</td>\n",
       "      <td>...</td>\n",
       "    </tr>\n",
       "    <tr>\n",
       "      <th>2420089</th>\n",
       "      <td>Treasure Island</td>\n",
       "      <td>1999</td>\n",
       "      <td>Caveh Zahedi</td>\n",
       "      <td>actor</td>\n",
       "      <td>Harold</td>\n",
       "      <td>9.0</td>\n",
       "    </tr>\n",
       "    <tr>\n",
       "      <th>1637661</th>\n",
       "      <td>Treasure Island</td>\n",
       "      <td>1999</td>\n",
       "      <td>Nick Offerman</td>\n",
       "      <td>actor</td>\n",
       "      <td>Samuel</td>\n",
       "      <td>2.0</td>\n",
       "    </tr>\n",
       "    <tr>\n",
       "      <th>1375015</th>\n",
       "      <td>Treasure Island</td>\n",
       "      <td>1999</td>\n",
       "      <td>J.P. Manoux</td>\n",
       "      <td>actor</td>\n",
       "      <td>Officer Hughes</td>\n",
       "      <td>18.0</td>\n",
       "    </tr>\n",
       "    <tr>\n",
       "      <th>1797264</th>\n",
       "      <td>Treasure Island</td>\n",
       "      <td>1999</td>\n",
       "      <td>Victor Raider-Wexler</td>\n",
       "      <td>actor</td>\n",
       "      <td>Samowitz</td>\n",
       "      <td>10.0</td>\n",
       "    </tr>\n",
       "    <tr>\n",
       "      <th>307749</th>\n",
       "      <td>Treasure Island</td>\n",
       "      <td>1999</td>\n",
       "      <td>Bob Byington</td>\n",
       "      <td>actor</td>\n",
       "      <td>Thomas</td>\n",
       "      <td>12.0</td>\n",
       "    </tr>\n",
       "  </tbody>\n",
       "</table>\n",
       "<p>190 rows × 6 columns</p>\n",
       "</div>"
      ],
      "text/plain": [
       "                   title  year                  name     type  \\\n",
       "830114   Treasure Island  1918        Charles Gorman    actor   \n",
       "840745   Treasure Island  1918             Joe Grant    actor   \n",
       "909157   Treasure Island  1918          Edwin Harley    actor   \n",
       "3298306  Treasure Island  1918      Violet Radcliffe  actress   \n",
       "1715014  Treasure Island  1918            Lloyd Perl    actor   \n",
       "...                  ...   ...                   ...      ...   \n",
       "2420089  Treasure Island  1999          Caveh Zahedi    actor   \n",
       "1637661  Treasure Island  1999         Nick Offerman    actor   \n",
       "1375015  Treasure Island  1999           J.P. Manoux    actor   \n",
       "1797264  Treasure Island  1999  Victor Raider-Wexler    actor   \n",
       "307749   Treasure Island  1999          Bob Byington    actor   \n",
       "\n",
       "                       character     n  \n",
       "830114           Prologue Player   NaN  \n",
       "840745   Undetermined child role   NaN  \n",
       "909157           Prologue Player   NaN  \n",
       "3298306         Long John Silver   3.0  \n",
       "1715014                Black Dog   4.0  \n",
       "...                          ...   ...  \n",
       "2420089                   Harold   9.0  \n",
       "1637661                   Samuel   2.0  \n",
       "1375015           Officer Hughes  18.0  \n",
       "1797264                 Samowitz  10.0  \n",
       "307749                    Thomas  12.0  \n",
       "\n",
       "[190 rows x 6 columns]"
      ]
     },
     "execution_count": 12,
     "metadata": {},
     "output_type": "execute_result"
    }
   ],
   "source": [
    "ti = data[data['title'] == 'Treasure Island']\n",
    "ti = ti.sort_values(by='year')\n",
    "ti"
   ]
  },
  {
   "cell_type": "markdown",
   "id": "6a0c4c53",
   "metadata": {},
   "source": [
    "# Q7 How many movies were made in the year 1950?"
   ]
  },
  {
   "cell_type": "code",
   "execution_count": 27,
   "id": "3943d66c",
   "metadata": {},
   "outputs": [
    {
     "data": {
      "text/plain": [
       "22006"
      ]
     },
     "execution_count": 27,
     "metadata": {},
     "output_type": "execute_result"
    }
   ],
   "source": [
    "count1950 = len(data[data['year']==1950])\n",
    "count1950"
   ]
  },
  {
   "cell_type": "markdown",
   "id": "93b5f834",
   "metadata": {},
   "source": [
    "# Q8 How many movies were made from 1950 through 1959?"
   ]
  },
  {
   "cell_type": "code",
   "execution_count": 28,
   "id": "1d6a84b4",
   "metadata": {},
   "outputs": [
    {
     "data": {
      "text/plain": [
       "210986"
      ]
     },
     "execution_count": 28,
     "metadata": {},
     "output_type": "execute_result"
    }
   ],
   "source": [
    "count = len(data[(data['year'] >=1950) & (data['year']<=1959)])\n",
    "count"
   ]
  },
  {
   "cell_type": "markdown",
   "id": "4e25ba2d",
   "metadata": {},
   "source": [
    "# Q9 In what years has a movie titled \"Batman\" been released?"
   ]
  },
  {
   "cell_type": "code",
   "execution_count": 35,
   "id": "8b4dfe80",
   "metadata": {
    "collapsed": true
   },
   "outputs": [
    {
     "data": {
      "text/html": [
       "<div>\n",
       "<style scoped>\n",
       "    .dataframe tbody tr th:only-of-type {\n",
       "        vertical-align: middle;\n",
       "    }\n",
       "\n",
       "    .dataframe tbody tr th {\n",
       "        vertical-align: top;\n",
       "    }\n",
       "\n",
       "    .dataframe thead th {\n",
       "        text-align: right;\n",
       "    }\n",
       "</style>\n",
       "<table border=\"1\" class=\"dataframe\">\n",
       "  <thead>\n",
       "    <tr style=\"text-align: right;\">\n",
       "      <th></th>\n",
       "      <th>title</th>\n",
       "      <th>year</th>\n",
       "      <th>name</th>\n",
       "      <th>type</th>\n",
       "      <th>character</th>\n",
       "      <th>n</th>\n",
       "    </tr>\n",
       "  </thead>\n",
       "  <tbody>\n",
       "    <tr>\n",
       "      <th>95672</th>\n",
       "      <td>Batman</td>\n",
       "      <td>1943</td>\n",
       "      <td>Frank Austin</td>\n",
       "      <td>actor</td>\n",
       "      <td>Hotel Clerk</td>\n",
       "      <td>NaN</td>\n",
       "    </tr>\n",
       "    <tr>\n",
       "      <th>2368904</th>\n",
       "      <td>Batman</td>\n",
       "      <td>1943</td>\n",
       "      <td>Charles C. Wilson</td>\n",
       "      <td>actor</td>\n",
       "      <td>Police Captain Arnold</td>\n",
       "      <td>NaN</td>\n",
       "    </tr>\n",
       "    <tr>\n",
       "      <th>880219</th>\n",
       "      <td>Batman</td>\n",
       "      <td>1943</td>\n",
       "      <td>Karl Hackett</td>\n",
       "      <td>actor</td>\n",
       "      <td>Wallace</td>\n",
       "      <td>NaN</td>\n",
       "    </tr>\n",
       "    <tr>\n",
       "      <th>2355812</th>\n",
       "      <td>Batman</td>\n",
       "      <td>1943</td>\n",
       "      <td>Billy Wilkerson</td>\n",
       "      <td>actor</td>\n",
       "      <td>Steve [Ch. 8</td>\n",
       "      <td>NaN</td>\n",
       "    </tr>\n",
       "    <tr>\n",
       "      <th>1815153</th>\n",
       "      <td>Batman</td>\n",
       "      <td>1943</td>\n",
       "      <td>Joey Ray</td>\n",
       "      <td>actor</td>\n",
       "      <td>Henchman</td>\n",
       "      <td>NaN</td>\n",
       "    </tr>\n",
       "    <tr>\n",
       "      <th>...</th>\n",
       "      <td>...</td>\n",
       "      <td>...</td>\n",
       "      <td>...</td>\n",
       "      <td>...</td>\n",
       "      <td>...</td>\n",
       "      <td>...</td>\n",
       "    </tr>\n",
       "    <tr>\n",
       "      <th>1067346</th>\n",
       "      <td>Batman</td>\n",
       "      <td>1989</td>\n",
       "      <td>Jazzer Jeyes</td>\n",
       "      <td>actor</td>\n",
       "      <td>Napier Hood</td>\n",
       "      <td>32.0</td>\n",
       "    </tr>\n",
       "    <tr>\n",
       "      <th>987413</th>\n",
       "      <td>Batman</td>\n",
       "      <td>1989</td>\n",
       "      <td>William Hootkins</td>\n",
       "      <td>actor</td>\n",
       "      <td>Lt. Eckhardt</td>\n",
       "      <td>12.0</td>\n",
       "    </tr>\n",
       "    <tr>\n",
       "      <th>966816</th>\n",
       "      <td>Batman</td>\n",
       "      <td>1989</td>\n",
       "      <td>Pat Hingle</td>\n",
       "      <td>actor</td>\n",
       "      <td>Commissioner James Gordon</td>\n",
       "      <td>5.0</td>\n",
       "    </tr>\n",
       "    <tr>\n",
       "      <th>3345872</th>\n",
       "      <td>Batman</td>\n",
       "      <td>1989</td>\n",
       "      <td>Liza Ross</td>\n",
       "      <td>actress</td>\n",
       "      <td>Tourist Mom</td>\n",
       "      <td>45.0</td>\n",
       "    </tr>\n",
       "    <tr>\n",
       "      <th>3356826</th>\n",
       "      <td>Batman</td>\n",
       "      <td>1989</td>\n",
       "      <td>Rachel Ryan</td>\n",
       "      <td>actress</td>\n",
       "      <td>Corpse</td>\n",
       "      <td>NaN</td>\n",
       "    </tr>\n",
       "  </tbody>\n",
       "</table>\n",
       "<p>120 rows × 6 columns</p>\n",
       "</div>"
      ],
      "text/plain": [
       "          title  year               name     type                  character  \\\n",
       "95672    Batman  1943       Frank Austin    actor                Hotel Clerk   \n",
       "2368904  Batman  1943  Charles C. Wilson    actor      Police Captain Arnold   \n",
       "880219   Batman  1943       Karl Hackett    actor                    Wallace   \n",
       "2355812  Batman  1943    Billy Wilkerson    actor               Steve [Ch. 8   \n",
       "1815153  Batman  1943           Joey Ray    actor                   Henchman   \n",
       "...         ...   ...                ...      ...                        ...   \n",
       "1067346  Batman  1989       Jazzer Jeyes    actor                Napier Hood   \n",
       "987413   Batman  1989   William Hootkins    actor               Lt. Eckhardt   \n",
       "966816   Batman  1989         Pat Hingle    actor  Commissioner James Gordon   \n",
       "3345872  Batman  1989          Liza Ross  actress                Tourist Mom   \n",
       "3356826  Batman  1989        Rachel Ryan  actress                     Corpse   \n",
       "\n",
       "            n  \n",
       "95672     NaN  \n",
       "2368904   NaN  \n",
       "880219    NaN  \n",
       "2355812   NaN  \n",
       "1815153   NaN  \n",
       "...       ...  \n",
       "1067346  32.0  \n",
       "987413   12.0  \n",
       "966816    5.0  \n",
       "3345872  45.0  \n",
       "3356826   NaN  \n",
       "\n",
       "[120 rows x 6 columns]"
      ]
     },
     "execution_count": 35,
     "metadata": {},
     "output_type": "execute_result"
    }
   ],
   "source": [
    "mov = data[data['title'] == 'Batman']\n",
    "mov = mov.sort_values(by = 'year')\n",
    "mov"
   ]
  },
  {
   "cell_type": "markdown",
   "id": "d88a73fc",
   "metadata": {},
   "source": [
    "# Q10 How many roles were there in the movie \"Inception\"?"
   ]
  },
  {
   "cell_type": "code",
   "execution_count": 42,
   "id": "b0167783",
   "metadata": {},
   "outputs": [
    {
     "data": {
      "text/plain": [
       "77"
      ]
     },
     "execution_count": 42,
     "metadata": {},
     "output_type": "execute_result"
    }
   ],
   "source": [
    "roles = (data['title']=='Inception').sum()\n",
    "roles"
   ]
  },
  {
   "cell_type": "markdown",
   "id": "7b213172",
   "metadata": {},
   "source": [
    "# Q11 How many roles in the movie \"Inception\" are NOT ranked by an \"n\" value?"
   ]
  },
  {
   "cell_type": "code",
   "execution_count": 70,
   "id": "c20a7ad7",
   "metadata": {},
   "outputs": [
    {
     "name": "stdout",
     "output_type": "stream",
     "text": [
      "the total movie INCEPTION which is not ranked by N value are: 26\n"
     ]
    }
   ],
   "source": [
    "icpt = data[(data['title']=='Inception')&data['n'].isna()]\n",
    "icpt_total = len(icpt)\n",
    "print(\"the total movie INCEPTION which is not ranked by N value are:\",icpt_total)"
   ]
  },
  {
   "cell_type": "markdown",
   "id": "74b0d46c",
   "metadata": {},
   "source": [
    "# Q12 But how many roles in the movie \"Inception\" did receive an \"n\" value? "
   ]
  },
  {
   "cell_type": "code",
   "execution_count": 77,
   "id": "4199045c",
   "metadata": {},
   "outputs": [
    {
     "name": "stdout",
     "output_type": "stream",
     "text": [
      "the total movie INCEPTION which is not ranked by N value are: 51\n"
     ]
    }
   ],
   "source": [
    "icpt = data[(data['title']=='Inception')&(data['n']>=0)]\n",
    "icpt_total = len(icpt)\n",
    "print(\"the total movie INCEPTION which is not ranked by N value are:\",icpt_total)"
   ]
  },
  {
   "cell_type": "markdown",
   "id": "ede7084f",
   "metadata": {},
   "source": [
    "# Q13 Display the cast of \"North by Northwest\" in their correct \"n\" value order, ignoring roles that did not earn a numeric \"n\" value?"
   ]
  },
  {
   "cell_type": "code",
   "execution_count": 78,
   "id": "38e3759f",
   "metadata": {},
   "outputs": [
    {
     "data": {
      "text/html": [
       "<div>\n",
       "<style scoped>\n",
       "    .dataframe tbody tr th:only-of-type {\n",
       "        vertical-align: middle;\n",
       "    }\n",
       "\n",
       "    .dataframe tbody tr th {\n",
       "        vertical-align: top;\n",
       "    }\n",
       "\n",
       "    .dataframe thead th {\n",
       "        text-align: right;\n",
       "    }\n",
       "</style>\n",
       "<table border=\"1\" class=\"dataframe\">\n",
       "  <thead>\n",
       "    <tr style=\"text-align: right;\">\n",
       "      <th></th>\n",
       "      <th>title</th>\n",
       "      <th>year</th>\n",
       "      <th>name</th>\n",
       "      <th>type</th>\n",
       "      <th>character</th>\n",
       "      <th>n</th>\n",
       "    </tr>\n",
       "  </thead>\n",
       "  <tbody>\n",
       "    <tr>\n",
       "      <th>1334726</th>\n",
       "      <td>North by Northwest</td>\n",
       "      <td>1959</td>\n",
       "      <td>Ken Lynch</td>\n",
       "      <td>actor</td>\n",
       "      <td>Charley - Chicago Policeman</td>\n",
       "      <td>16.0</td>\n",
       "    </tr>\n",
       "    <tr>\n",
       "      <th>198496</th>\n",
       "      <td>North by Northwest</td>\n",
       "      <td>1959</td>\n",
       "      <td>Edward Binns</td>\n",
       "      <td>actor</td>\n",
       "      <td>Captain Junket</td>\n",
       "      <td>15.0</td>\n",
       "    </tr>\n",
       "    <tr>\n",
       "      <th>1454363</th>\n",
       "      <td>North by Northwest</td>\n",
       "      <td>1959</td>\n",
       "      <td>Patrick McVey</td>\n",
       "      <td>actor</td>\n",
       "      <td>Sergeant Flamm</td>\n",
       "      <td>14.0</td>\n",
       "    </tr>\n",
       "    <tr>\n",
       "      <th>447893</th>\n",
       "      <td>North by Northwest</td>\n",
       "      <td>1959</td>\n",
       "      <td>Philip Coolidge</td>\n",
       "      <td>actor</td>\n",
       "      <td>Dr. Cross</td>\n",
       "      <td>13.0</td>\n",
       "    </tr>\n",
       "    <tr>\n",
       "      <th>2212083</th>\n",
       "      <td>North by Northwest</td>\n",
       "      <td>1959</td>\n",
       "      <td>Les Tremayne</td>\n",
       "      <td>actor</td>\n",
       "      <td>Auctioneer</td>\n",
       "      <td>12.0</td>\n",
       "    </tr>\n",
       "    <tr>\n",
       "      <th>642085</th>\n",
       "      <td>North by Northwest</td>\n",
       "      <td>1959</td>\n",
       "      <td>Robert Ellenstein</td>\n",
       "      <td>actor</td>\n",
       "      <td>Licht</td>\n",
       "      <td>11.0</td>\n",
       "    </tr>\n",
       "    <tr>\n",
       "      <th>1746383</th>\n",
       "      <td>North by Northwest</td>\n",
       "      <td>1959</td>\n",
       "      <td>Edward Platt</td>\n",
       "      <td>actor</td>\n",
       "      <td>Victor Larrabee</td>\n",
       "      <td>10.0</td>\n",
       "    </tr>\n",
       "    <tr>\n",
       "      <th>2357939</th>\n",
       "      <td>North by Northwest</td>\n",
       "      <td>1959</td>\n",
       "      <td>Adam Williams</td>\n",
       "      <td>actor</td>\n",
       "      <td>Valerian</td>\n",
       "      <td>9.0</td>\n",
       "    </tr>\n",
       "    <tr>\n",
       "      <th>1229083</th>\n",
       "      <td>North by Northwest</td>\n",
       "      <td>1959</td>\n",
       "      <td>Martin Landau</td>\n",
       "      <td>actor</td>\n",
       "      <td>Leonard</td>\n",
       "      <td>8.0</td>\n",
       "    </tr>\n",
       "    <tr>\n",
       "      <th>1634552</th>\n",
       "      <td>North by Northwest</td>\n",
       "      <td>1959</td>\n",
       "      <td>Philip Ober</td>\n",
       "      <td>actor</td>\n",
       "      <td>Lester Townsend</td>\n",
       "      <td>7.0</td>\n",
       "    </tr>\n",
       "    <tr>\n",
       "      <th>2923056</th>\n",
       "      <td>North by Northwest</td>\n",
       "      <td>1959</td>\n",
       "      <td>Josephine Hutchinson</td>\n",
       "      <td>actress</td>\n",
       "      <td>Mrs. Townsend</td>\n",
       "      <td>6.0</td>\n",
       "    </tr>\n",
       "    <tr>\n",
       "      <th>343701</th>\n",
       "      <td>North by Northwest</td>\n",
       "      <td>1959</td>\n",
       "      <td>Leo G. Carroll</td>\n",
       "      <td>actor</td>\n",
       "      <td>The Professor</td>\n",
       "      <td>5.0</td>\n",
       "    </tr>\n",
       "    <tr>\n",
       "      <th>3024085</th>\n",
       "      <td>North by Northwest</td>\n",
       "      <td>1959</td>\n",
       "      <td>Jessie Royce Landis</td>\n",
       "      <td>actress</td>\n",
       "      <td>Clara Thornhill</td>\n",
       "      <td>4.0</td>\n",
       "    </tr>\n",
       "    <tr>\n",
       "      <th>1404704</th>\n",
       "      <td>North by Northwest</td>\n",
       "      <td>1959</td>\n",
       "      <td>James Mason</td>\n",
       "      <td>actor</td>\n",
       "      <td>Phillip Vandamm</td>\n",
       "      <td>3.0</td>\n",
       "    </tr>\n",
       "    <tr>\n",
       "      <th>3361396</th>\n",
       "      <td>North by Northwest</td>\n",
       "      <td>1959</td>\n",
       "      <td>Eva Marie Saint</td>\n",
       "      <td>actress</td>\n",
       "      <td>Eve Kendall</td>\n",
       "      <td>2.0</td>\n",
       "    </tr>\n",
       "    <tr>\n",
       "      <th>840374</th>\n",
       "      <td>North by Northwest</td>\n",
       "      <td>1959</td>\n",
       "      <td>Cary Grant</td>\n",
       "      <td>actor</td>\n",
       "      <td>Roger O. Thornhill</td>\n",
       "      <td>1.0</td>\n",
       "    </tr>\n",
       "  </tbody>\n",
       "</table>\n",
       "</div>"
      ],
      "text/plain": [
       "                      title  year                  name     type  \\\n",
       "1334726  North by Northwest  1959             Ken Lynch    actor   \n",
       "198496   North by Northwest  1959          Edward Binns    actor   \n",
       "1454363  North by Northwest  1959         Patrick McVey    actor   \n",
       "447893   North by Northwest  1959       Philip Coolidge    actor   \n",
       "2212083  North by Northwest  1959          Les Tremayne    actor   \n",
       "642085   North by Northwest  1959     Robert Ellenstein    actor   \n",
       "1746383  North by Northwest  1959          Edward Platt    actor   \n",
       "2357939  North by Northwest  1959         Adam Williams    actor   \n",
       "1229083  North by Northwest  1959         Martin Landau    actor   \n",
       "1634552  North by Northwest  1959           Philip Ober    actor   \n",
       "2923056  North by Northwest  1959  Josephine Hutchinson  actress   \n",
       "343701   North by Northwest  1959        Leo G. Carroll    actor   \n",
       "3024085  North by Northwest  1959   Jessie Royce Landis  actress   \n",
       "1404704  North by Northwest  1959           James Mason    actor   \n",
       "3361396  North by Northwest  1959       Eva Marie Saint  actress   \n",
       "840374   North by Northwest  1959            Cary Grant    actor   \n",
       "\n",
       "                           character     n  \n",
       "1334726  Charley - Chicago Policeman  16.0  \n",
       "198496                Captain Junket  15.0  \n",
       "1454363               Sergeant Flamm  14.0  \n",
       "447893                     Dr. Cross  13.0  \n",
       "2212083                   Auctioneer  12.0  \n",
       "642085                         Licht  11.0  \n",
       "1746383              Victor Larrabee  10.0  \n",
       "2357939                     Valerian   9.0  \n",
       "1229083                      Leonard   8.0  \n",
       "1634552              Lester Townsend   7.0  \n",
       "2923056                Mrs. Townsend   6.0  \n",
       "343701                 The Professor   5.0  \n",
       "3024085              Clara Thornhill   4.0  \n",
       "1404704              Phillip Vandamm   3.0  \n",
       "3361396                  Eve Kendall   2.0  \n",
       "840374            Roger O. Thornhill   1.0  "
      ]
     },
     "execution_count": 78,
     "metadata": {},
     "output_type": "execute_result"
    }
   ],
   "source": [
    "nbn = data[(data['title']=='North by Northwest')&(data['n']>=0)]\n",
    "nbn_order = nbn.sort_values(by='n',ascending=False)\n",
    "nbn_order"
   ]
  },
  {
   "cell_type": "markdown",
   "id": "fbb8ace3",
   "metadata": {},
   "source": [
    "# Q14 Display the cast in \"n\" order ,of the 1972 films \"Sleuth\"?"
   ]
  },
  {
   "cell_type": "code",
   "execution_count": 76,
   "id": "35e6ee2d",
   "metadata": {},
   "outputs": [
    {
     "data": {
      "text/html": [
       "<div>\n",
       "<style scoped>\n",
       "    .dataframe tbody tr th:only-of-type {\n",
       "        vertical-align: middle;\n",
       "    }\n",
       "\n",
       "    .dataframe tbody tr th {\n",
       "        vertical-align: top;\n",
       "    }\n",
       "\n",
       "    .dataframe thead th {\n",
       "        text-align: right;\n",
       "    }\n",
       "</style>\n",
       "<table border=\"1\" class=\"dataframe\">\n",
       "  <thead>\n",
       "    <tr style=\"text-align: right;\">\n",
       "      <th></th>\n",
       "      <th>title</th>\n",
       "      <th>year</th>\n",
       "      <th>name</th>\n",
       "      <th>type</th>\n",
       "      <th>character</th>\n",
       "      <th>n</th>\n",
       "    </tr>\n",
       "  </thead>\n",
       "  <tbody>\n",
       "    <tr>\n",
       "      <th>1396572</th>\n",
       "      <td>Sleuth</td>\n",
       "      <td>1972</td>\n",
       "      <td>Teddy Martin</td>\n",
       "      <td>actor</td>\n",
       "      <td>Police Constable Higgs</td>\n",
       "      <td>6.0</td>\n",
       "    </tr>\n",
       "    <tr>\n",
       "      <th>2619278</th>\n",
       "      <td>Sleuth</td>\n",
       "      <td>1972</td>\n",
       "      <td>Eve (III) Channing</td>\n",
       "      <td>actress</td>\n",
       "      <td>Marguerite Wyke</td>\n",
       "      <td>5.0</td>\n",
       "    </tr>\n",
       "    <tr>\n",
       "      <th>1412647</th>\n",
       "      <td>Sleuth</td>\n",
       "      <td>1972</td>\n",
       "      <td>John (II) Matthews</td>\n",
       "      <td>actor</td>\n",
       "      <td>Detective Sergeant Tarrant</td>\n",
       "      <td>4.0</td>\n",
       "    </tr>\n",
       "    <tr>\n",
       "      <th>360365</th>\n",
       "      <td>Sleuth</td>\n",
       "      <td>1972</td>\n",
       "      <td>Alec Cawthorne</td>\n",
       "      <td>actor</td>\n",
       "      <td>Inspector Doppler</td>\n",
       "      <td>3.0</td>\n",
       "    </tr>\n",
       "    <tr>\n",
       "      <th>314691</th>\n",
       "      <td>Sleuth</td>\n",
       "      <td>1972</td>\n",
       "      <td>Michael Caine</td>\n",
       "      <td>actor</td>\n",
       "      <td>Milo Tindle</td>\n",
       "      <td>2.0</td>\n",
       "    </tr>\n",
       "    <tr>\n",
       "      <th>1644328</th>\n",
       "      <td>Sleuth</td>\n",
       "      <td>1972</td>\n",
       "      <td>Laurence Olivier</td>\n",
       "      <td>actor</td>\n",
       "      <td>Andrew Wyke</td>\n",
       "      <td>1.0</td>\n",
       "    </tr>\n",
       "  </tbody>\n",
       "</table>\n",
       "</div>"
      ],
      "text/plain": [
       "          title  year                name     type  \\\n",
       "1396572  Sleuth  1972        Teddy Martin    actor   \n",
       "2619278  Sleuth  1972  Eve (III) Channing  actress   \n",
       "1412647  Sleuth  1972  John (II) Matthews    actor   \n",
       "360365   Sleuth  1972      Alec Cawthorne    actor   \n",
       "314691   Sleuth  1972       Michael Caine    actor   \n",
       "1644328  Sleuth  1972    Laurence Olivier    actor   \n",
       "\n",
       "                          character    n  \n",
       "1396572      Police Constable Higgs  6.0  \n",
       "2619278             Marguerite Wyke  5.0  \n",
       "1412647  Detective Sergeant Tarrant  4.0  \n",
       "360365            Inspector Doppler  3.0  \n",
       "314691                  Milo Tindle  2.0  \n",
       "1644328                 Andrew Wyke  1.0  "
      ]
     },
     "execution_count": 76,
     "metadata": {},
     "output_type": "execute_result"
    }
   ],
   "source": [
    "cast = data[(data['title']=='Sleuth')&(data['year']==1972)]\n",
    "order_cast = cast.sort_values(by = 'n',ascending = False)\n",
    "order_cast"
   ]
  },
  {
   "cell_type": "markdown",
   "id": "01f64581",
   "metadata": {},
   "source": [
    "# Q15 Now display the entire cast in order, of the 2007 version of \"Sleuth\""
   ]
  },
  {
   "cell_type": "code",
   "execution_count": 51,
   "id": "6950e2ba",
   "metadata": {
    "collapsed": true
   },
   "outputs": [
    {
     "data": {
      "text/html": [
       "<div>\n",
       "<style scoped>\n",
       "    .dataframe tbody tr th:only-of-type {\n",
       "        vertical-align: middle;\n",
       "    }\n",
       "\n",
       "    .dataframe tbody tr th {\n",
       "        vertical-align: top;\n",
       "    }\n",
       "\n",
       "    .dataframe thead th {\n",
       "        text-align: right;\n",
       "    }\n",
       "</style>\n",
       "<table border=\"1\" class=\"dataframe\">\n",
       "  <thead>\n",
       "    <tr style=\"text-align: right;\">\n",
       "      <th></th>\n",
       "      <th>title</th>\n",
       "      <th>year</th>\n",
       "      <th>name</th>\n",
       "      <th>type</th>\n",
       "      <th>character</th>\n",
       "      <th>n</th>\n",
       "    </tr>\n",
       "  </thead>\n",
       "  <tbody>\n",
       "    <tr>\n",
       "      <th>250297</th>\n",
       "      <td>Sleuth</td>\n",
       "      <td>2007</td>\n",
       "      <td>Kenneth Branagh</td>\n",
       "      <td>actor</td>\n",
       "      <td>Other Man on T.V.</td>\n",
       "      <td>NaN</td>\n",
       "    </tr>\n",
       "    <tr>\n",
       "      <th>314692</th>\n",
       "      <td>Sleuth</td>\n",
       "      <td>2007</td>\n",
       "      <td>Michael Caine</td>\n",
       "      <td>actor</td>\n",
       "      <td>Andrew</td>\n",
       "      <td>1.0</td>\n",
       "    </tr>\n",
       "    <tr>\n",
       "      <th>360366</th>\n",
       "      <td>Sleuth</td>\n",
       "      <td>2007</td>\n",
       "      <td>Alec (II) Cawthorne</td>\n",
       "      <td>actor</td>\n",
       "      <td>Inspector Doppler</td>\n",
       "      <td>NaN</td>\n",
       "    </tr>\n",
       "    <tr>\n",
       "      <th>1246855</th>\n",
       "      <td>Sleuth</td>\n",
       "      <td>2007</td>\n",
       "      <td>Jude Law</td>\n",
       "      <td>actor</td>\n",
       "      <td>Milo</td>\n",
       "      <td>2.0</td>\n",
       "    </tr>\n",
       "    <tr>\n",
       "      <th>1741124</th>\n",
       "      <td>Sleuth</td>\n",
       "      <td>2007</td>\n",
       "      <td>Harold Pinter</td>\n",
       "      <td>actor</td>\n",
       "      <td>Man on T.V.</td>\n",
       "      <td>3.0</td>\n",
       "    </tr>\n",
       "    <tr>\n",
       "      <th>2619277</th>\n",
       "      <td>Sleuth</td>\n",
       "      <td>2007</td>\n",
       "      <td>Eve (II) Channing</td>\n",
       "      <td>actress</td>\n",
       "      <td>Marguerite Wyke</td>\n",
       "      <td>NaN</td>\n",
       "    </tr>\n",
       "    <tr>\n",
       "      <th>3223502</th>\n",
       "      <td>Sleuth</td>\n",
       "      <td>2007</td>\n",
       "      <td>Carmel O'Sullivan</td>\n",
       "      <td>actress</td>\n",
       "      <td>Maggie</td>\n",
       "      <td>NaN</td>\n",
       "    </tr>\n",
       "  </tbody>\n",
       "</table>\n",
       "</div>"
      ],
      "text/plain": [
       "          title  year                 name     type          character    n\n",
       "250297   Sleuth  2007      Kenneth Branagh    actor  Other Man on T.V.  NaN\n",
       "314692   Sleuth  2007        Michael Caine    actor             Andrew  1.0\n",
       "360366   Sleuth  2007  Alec (II) Cawthorne    actor  Inspector Doppler  NaN\n",
       "1246855  Sleuth  2007             Jude Law    actor               Milo  2.0\n",
       "1741124  Sleuth  2007        Harold Pinter    actor        Man on T.V.  3.0\n",
       "2619277  Sleuth  2007    Eve (II) Channing  actress    Marguerite Wyke  NaN\n",
       "3223502  Sleuth  2007    Carmel O'Sullivan  actress             Maggie  NaN"
      ]
     },
     "execution_count": 51,
     "metadata": {},
     "output_type": "execute_result"
    }
   ],
   "source": [
    "cast = data[(data['title']=='Sleuth')&(data['year']==2007)]\n",
    "cast \n"
   ]
  },
  {
   "cell_type": "markdown",
   "id": "aa0b1b9a",
   "metadata": {},
   "source": [
    "# Q16 How many roles were credited in the silent 1921 version of \"Hamlet\""
   ]
  },
  {
   "cell_type": "code",
   "execution_count": 68,
   "id": "864ecae5",
   "metadata": {
    "collapsed": true
   },
   "outputs": [
    {
     "data": {
      "text/html": [
       "<div>\n",
       "<style scoped>\n",
       "    .dataframe tbody tr th:only-of-type {\n",
       "        vertical-align: middle;\n",
       "    }\n",
       "\n",
       "    .dataframe tbody tr th {\n",
       "        vertical-align: top;\n",
       "    }\n",
       "\n",
       "    .dataframe thead th {\n",
       "        text-align: right;\n",
       "    }\n",
       "</style>\n",
       "<table border=\"1\" class=\"dataframe\">\n",
       "  <thead>\n",
       "    <tr style=\"text-align: right;\">\n",
       "      <th></th>\n",
       "      <th>title</th>\n",
       "      <th>year</th>\n",
       "      <th>name</th>\n",
       "      <th>type</th>\n",
       "      <th>character</th>\n",
       "      <th>n</th>\n",
       "    </tr>\n",
       "  </thead>\n",
       "  <tbody>\n",
       "    <tr>\n",
       "      <th>1615</th>\n",
       "      <td>Hamlet</td>\n",
       "      <td>1996</td>\n",
       "      <td>Riz Abbasi</td>\n",
       "      <td>actor</td>\n",
       "      <td>Attendant to Claudius</td>\n",
       "      <td>1.0</td>\n",
       "    </tr>\n",
       "    <tr>\n",
       "      <th>301167</th>\n",
       "      <td>Hamlet</td>\n",
       "      <td>1964</td>\n",
       "      <td>Richard Burton</td>\n",
       "      <td>actor</td>\n",
       "      <td>Hamlet</td>\n",
       "      <td>1.0</td>\n",
       "    </tr>\n",
       "    <tr>\n",
       "      <th>1804123</th>\n",
       "      <td>Hamlet</td>\n",
       "      <td>2011</td>\n",
       "      <td>Bruce Ramsay</td>\n",
       "      <td>actor</td>\n",
       "      <td>Hamlet</td>\n",
       "      <td>1.0</td>\n",
       "    </tr>\n",
       "    <tr>\n",
       "      <th>476236</th>\n",
       "      <td>Hamlet</td>\n",
       "      <td>1976</td>\n",
       "      <td>Quentin Crisp</td>\n",
       "      <td>actor</td>\n",
       "      <td>Polonius</td>\n",
       "      <td>1.0</td>\n",
       "    </tr>\n",
       "    <tr>\n",
       "      <th>1592118</th>\n",
       "      <td>Hamlet</td>\n",
       "      <td>1911</td>\n",
       "      <td>Alwin Neu?</td>\n",
       "      <td>actor</td>\n",
       "      <td>Hamlet</td>\n",
       "      <td>1.0</td>\n",
       "    </tr>\n",
       "    <tr>\n",
       "      <th>...</th>\n",
       "      <td>...</td>\n",
       "      <td>...</td>\n",
       "      <td>...</td>\n",
       "      <td>...</td>\n",
       "      <td>...</td>\n",
       "      <td>...</td>\n",
       "    </tr>\n",
       "    <tr>\n",
       "      <th>3109186</th>\n",
       "      <td>Hamlet</td>\n",
       "      <td>1964</td>\n",
       "      <td>Linda Marsh</td>\n",
       "      <td>actress</td>\n",
       "      <td>Ophelia</td>\n",
       "      <td>NaN</td>\n",
       "    </tr>\n",
       "    <tr>\n",
       "      <th>3303304</th>\n",
       "      <td>Hamlet</td>\n",
       "      <td>1996</td>\n",
       "      <td>Melanie Ramsay</td>\n",
       "      <td>actress</td>\n",
       "      <td>Prostitute</td>\n",
       "      <td>NaN</td>\n",
       "    </tr>\n",
       "    <tr>\n",
       "      <th>3317452</th>\n",
       "      <td>Hamlet</td>\n",
       "      <td>1987</td>\n",
       "      <td>Melanie Revell</td>\n",
       "      <td>actress</td>\n",
       "      <td>Gertrude</td>\n",
       "      <td>NaN</td>\n",
       "    </tr>\n",
       "    <tr>\n",
       "      <th>3322807</th>\n",
       "      <td>Hamlet</td>\n",
       "      <td>1913</td>\n",
       "      <td>Olive Richardson</td>\n",
       "      <td>actress</td>\n",
       "      <td>Player Queen</td>\n",
       "      <td>NaN</td>\n",
       "    </tr>\n",
       "    <tr>\n",
       "      <th>3479394</th>\n",
       "      <td>Hamlet</td>\n",
       "      <td>1964</td>\n",
       "      <td>Carol Teitel</td>\n",
       "      <td>actress</td>\n",
       "      <td>Lady</td>\n",
       "      <td>NaN</td>\n",
       "    </tr>\n",
       "  </tbody>\n",
       "</table>\n",
       "<p>313 rows × 6 columns</p>\n",
       "</div>"
      ],
      "text/plain": [
       "          title  year              name     type              character    n\n",
       "1615     Hamlet  1996        Riz Abbasi    actor  Attendant to Claudius  1.0\n",
       "301167   Hamlet  1964    Richard Burton    actor                 Hamlet  1.0\n",
       "1804123  Hamlet  2011      Bruce Ramsay    actor                 Hamlet  1.0\n",
       "476236   Hamlet  1976     Quentin Crisp    actor               Polonius  1.0\n",
       "1592118  Hamlet  1911        Alwin Neu?    actor                 Hamlet  1.0\n",
       "...         ...   ...               ...      ...                    ...  ...\n",
       "3109186  Hamlet  1964       Linda Marsh  actress                Ophelia  NaN\n",
       "3303304  Hamlet  1996    Melanie Ramsay  actress             Prostitute  NaN\n",
       "3317452  Hamlet  1987    Melanie Revell  actress               Gertrude  NaN\n",
       "3322807  Hamlet  1913  Olive Richardson  actress           Player Queen  NaN\n",
       "3479394  Hamlet  1964      Carol Teitel  actress                   Lady  NaN\n",
       "\n",
       "[313 rows x 6 columns]"
      ]
     },
     "execution_count": 68,
     "metadata": {},
     "output_type": "execute_result"
    }
   ],
   "source": [
    "roles = data[data['title']=='Hamlet']\n",
    "roles1 = roles.sort_values(by='n')\n",
    "roles1"
   ]
  },
  {
   "cell_type": "markdown",
   "id": "6151e59a",
   "metadata": {},
   "source": [
    "# Q17 How many roles were credited in Branagh's 1996 Hamlet?"
   ]
  },
  {
   "cell_type": "code",
   "execution_count": 65,
   "id": "f8ac7137",
   "metadata": {},
   "outputs": [
    {
     "name": "stdout",
     "output_type": "stream",
     "text": [
      "the roles were credited in Branagh's Hamlet was only 1\n",
      "1\n"
     ]
    }
   ],
   "source": [
    "mov = data[(data['title']=='Hamlet')& (data['name']=='Kenneth Branagh')]\n",
    "mov = len(mov)\n",
    "print(\"the roles were credited in Branagh's Hamlet was only\",mov)\n",
    "print(mov)"
   ]
  },
  {
   "cell_type": "markdown",
   "id": "8ddb1585",
   "metadata": {},
   "source": [
    "# Q18 How many \"Hamlet\" roles has been listed in all films credits through history?"
   ]
  },
  {
   "cell_type": "code",
   "execution_count": 67,
   "id": "37eb81bc",
   "metadata": {},
   "outputs": [
    {
     "name": "stdout",
     "output_type": "stream",
     "text": [
      "91 character has been listed in all films through history of Hamlet\n"
     ]
    }
   ],
   "source": [
    "hamlet = data[(data['year']<=2023)&(data['character']=='Hamlet')]\n",
    "total_role = len(hamlet)\n",
    "print(f\"{total_role} character has been listed in all films through history of Hamlet\")"
   ]
  },
  {
   "cell_type": "markdown",
   "id": "760f3e56",
   "metadata": {},
   "source": [
    "# Q19 How many people have played an \"Ophelia\"?"
   ]
  },
  {
   "cell_type": "code",
   "execution_count": 73,
   "id": "3fa23810",
   "metadata": {},
   "outputs": [
    {
     "data": {
      "text/plain": [
       "array(['Daisy Ridley', 'Naomi Watts'], dtype=object)"
      ]
     },
     "execution_count": 73,
     "metadata": {},
     "output_type": "execute_result"
    }
   ],
   "source": [
    "mov = data[data['title']=='Ophelia']\n",
    "mov1 = mov['name'].unique()\n",
    "mov1"
   ]
  },
  {
   "cell_type": "markdown",
   "id": "db809012",
   "metadata": {},
   "source": [
    "# Q20 How many people have played a role called \"The Dude\"?"
   ]
  },
  {
   "cell_type": "code",
   "execution_count": 85,
   "id": "15dacb5e",
   "metadata": {},
   "outputs": [
    {
     "data": {
      "text/plain": [
       "18"
      ]
     },
     "execution_count": 85,
     "metadata": {},
     "output_type": "execute_result"
    }
   ],
   "source": [
    "the_dude = (data['character'] =='The Dude').sum()\n",
    "the_dude"
   ]
  },
  {
   "cell_type": "markdown",
   "id": "e65fc55a",
   "metadata": {},
   "source": [
    "# Q21 How many people have played a role called \"the Stranger\"?"
   ]
  },
  {
   "cell_type": "code",
   "execution_count": 86,
   "id": "d6eba4c5",
   "metadata": {},
   "outputs": [
    {
     "data": {
      "text/plain": [
       "208"
      ]
     },
     "execution_count": 86,
     "metadata": {},
     "output_type": "execute_result"
    }
   ],
   "source": [
    "the_stg = (data['character'] =='The Stranger').sum()\n",
    "the_stg"
   ]
  },
  {
   "cell_type": "markdown",
   "id": "3223faf2",
   "metadata": {},
   "source": [
    "# Q22 How many roles has Sidney Poitier played throughout his career?"
   ]
  },
  {
   "cell_type": "code",
   "execution_count": 89,
   "id": "089be1de",
   "metadata": {},
   "outputs": [
    {
     "name": "stdout",
     "output_type": "stream",
     "text": [
      "the total role he played throughout his career is : 43\n"
     ]
    }
   ],
   "source": [
    "roles = (data['name']=='Sidney Poitier').sum()\n",
    "print(\"the total role he played throughout his career is :\",roles)"
   ]
  },
  {
   "cell_type": "markdown",
   "id": "9eefc9f5",
   "metadata": {},
   "source": [
    "# Q23 How many roles has Judi Dench played?"
   ]
  },
  {
   "cell_type": "code",
   "execution_count": 96,
   "id": "ebcaf8f5",
   "metadata": {},
   "outputs": [
    {
     "name": "stdout",
     "output_type": "stream",
     "text": [
      "the total roles were played by judi dench was : 46\n"
     ]
    }
   ],
   "source": [
    "roles = data[data['name']=='Judi Dench']['character'].unique()\n",
    "roles1 = len(roles)\n",
    "print(\"the total roles were played by judi dench was :\",roles1)"
   ]
  },
  {
   "cell_type": "markdown",
   "id": "00746318",
   "metadata": {},
   "source": [
    "# Q24 List the supporting roles (having n =2) played by Cary Grant in the year 1940s, in order by year."
   ]
  },
  {
   "cell_type": "code",
   "execution_count": 60,
   "id": "fc34f9b5",
   "metadata": {},
   "outputs": [
    {
     "name": "stdout",
     "output_type": "stream",
     "text": [
      "supporting roles played by Cary Grant in the year 1940s was only 2\n"
     ]
    }
   ],
   "source": [
    " lyst = data[(data['name']=='Cary Grant')&(data['year']>=1940)&(data['year']<=1949)&(data['n']==2)]['n'].count()\n",
    "print(\"supporting roles played by Cary Grant in the year 1940s was only\",lyst)"
   ]
  },
  {
   "cell_type": "markdown",
   "id": "09b3fb78",
   "metadata": {},
   "source": [
    "# Q25 List the leading roles that Cary Grant played in the 1940s in order by year."
   ]
  },
  {
   "cell_type": "code",
   "execution_count": 7,
   "id": "0f3e559f",
   "metadata": {
    "collapsed": true
   },
   "outputs": [
    {
     "data": {
      "text/html": [
       "<div>\n",
       "<style scoped>\n",
       "    .dataframe tbody tr th:only-of-type {\n",
       "        vertical-align: middle;\n",
       "    }\n",
       "\n",
       "    .dataframe tbody tr th {\n",
       "        vertical-align: top;\n",
       "    }\n",
       "\n",
       "    .dataframe thead th {\n",
       "        text-align: right;\n",
       "    }\n",
       "</style>\n",
       "<table border=\"1\" class=\"dataframe\">\n",
       "  <thead>\n",
       "    <tr style=\"text-align: right;\">\n",
       "      <th></th>\n",
       "      <th>title</th>\n",
       "      <th>year</th>\n",
       "      <th>name</th>\n",
       "      <th>type</th>\n",
       "      <th>character</th>\n",
       "      <th>n</th>\n",
       "    </tr>\n",
       "  </thead>\n",
       "  <tbody>\n",
       "    <tr>\n",
       "      <th>840353</th>\n",
       "      <td>His Girl Friday</td>\n",
       "      <td>1940</td>\n",
       "      <td>Cary Grant</td>\n",
       "      <td>actor</td>\n",
       "      <td>Walter Burns</td>\n",
       "      <td>1.0</td>\n",
       "    </tr>\n",
       "    <tr>\n",
       "      <th>840371</th>\n",
       "      <td>My Favorite Wife</td>\n",
       "      <td>1940</td>\n",
       "      <td>Cary Grant</td>\n",
       "      <td>actor</td>\n",
       "      <td>Nick</td>\n",
       "      <td>2.0</td>\n",
       "    </tr>\n",
       "    <tr>\n",
       "      <th>840397</th>\n",
       "      <td>The Howards of Virginia</td>\n",
       "      <td>1940</td>\n",
       "      <td>Cary Grant</td>\n",
       "      <td>actor</td>\n",
       "      <td>Matt Howard</td>\n",
       "      <td>1.0</td>\n",
       "    </tr>\n",
       "    <tr>\n",
       "      <th>840399</th>\n",
       "      <td>The Philadelphia Story</td>\n",
       "      <td>1940</td>\n",
       "      <td>Cary Grant</td>\n",
       "      <td>actor</td>\n",
       "      <td>C. K. Dexter Haven</td>\n",
       "      <td>1.0</td>\n",
       "    </tr>\n",
       "  </tbody>\n",
       "</table>\n",
       "</div>"
      ],
      "text/plain": [
       "                          title  year        name   type           character  \\\n",
       "840353          His Girl Friday  1940  Cary Grant  actor        Walter Burns   \n",
       "840371         My Favorite Wife  1940  Cary Grant  actor                Nick   \n",
       "840397  The Howards of Virginia  1940  Cary Grant  actor         Matt Howard   \n",
       "840399   The Philadelphia Story  1940  Cary Grant  actor  C. K. Dexter Haven   \n",
       "\n",
       "          n  \n",
       "840353  1.0  \n",
       "840371  2.0  \n",
       "840397  1.0  \n",
       "840399  1.0  "
      ]
     },
     "execution_count": 7,
     "metadata": {},
     "output_type": "execute_result"
    }
   ],
   "source": [
    "roles = data[(data['name']=='Cary Grant')&(data['year']==1940)&(data['character'])]\n",
    "roles1 = roles.sort_values(by='year')\n",
    "roles1"
   ]
  },
  {
   "cell_type": "markdown",
   "id": "c0594824",
   "metadata": {},
   "source": [
    "# Q26 How many roles were available for actors in the 1950s?"
   ]
  },
  {
   "cell_type": "code",
   "execution_count": 20,
   "id": "cb7bc5ed",
   "metadata": {},
   "outputs": [
    {
     "name": "stdout",
     "output_type": "stream",
     "text": [
      "The total roles available for actors in 1950s are : 154727\n"
     ]
    }
   ],
   "source": [
    "roles = data[(data['year']>=1950)&(data['year']<=1959)&(data['type']=='actor')]\n",
    "total_roles = roles['character'].count()\n",
    "print(\"The total roles available for actors in 1950s are :\",total_roles)"
   ]
  },
  {
   "cell_type": "markdown",
   "id": "c9e333eb",
   "metadata": {},
   "source": [
    "# Q27 How many roles were available for actresses in the 1950s?"
   ]
  },
  {
   "cell_type": "code",
   "execution_count": 21,
   "id": "6d866999",
   "metadata": {},
   "outputs": [
    {
     "name": "stdout",
     "output_type": "stream",
     "text": [
      "The total roles available for actress in 1950s are : 56259\n"
     ]
    }
   ],
   "source": [
    "roles = data[(data['year']>=1950)&(data['year']<=1959)&(data['type']=='actress')]\n",
    "total_roles = roles['character'].count()\n",
    "print(\"The total roles available for actress in 1950s are :\",total_roles)"
   ]
  },
  {
   "cell_type": "markdown",
   "id": "3f478f3f",
   "metadata": {},
   "source": [
    "# Q28 How many leading role(n=1) were available from the beginning of films history through 1980?"
   ]
  },
  {
   "cell_type": "code",
   "execution_count": 40,
   "id": "9e4cc8b4",
   "metadata": {},
   "outputs": [
    {
     "data": {
      "text/plain": [
       "63924"
      ]
     },
     "execution_count": 40,
     "metadata": {},
     "output_type": "execute_result"
    }
   ],
   "source": [
    "leading_role = data[(data['year']>=1894)&(data['year']<=1980)&(data['n']==1)]['n'].count() \n",
    "leading_role"
   ]
  },
  {
   "cell_type": "markdown",
   "id": "690ed2b9",
   "metadata": {},
   "source": [
    "# Q29 How many non-leading role(n=1) were available from the beginning of films history through 1980?"
   ]
  },
  {
   "cell_type": "code",
   "execution_count": 80,
   "id": "f7d00e4b",
   "metadata": {},
   "outputs": [
    {
     "name": "stdout",
     "output_type": "stream",
     "text": [
      "the total roles available from the beginning of the film history was: 1143\n"
     ]
    }
   ],
   "source": [
    "role = data[(data['year']==1980)&(data['n']==1)]['n'].count()\n",
    "print(\"the total roles available from the beginning of the film history was:\",role)"
   ]
  },
  {
   "cell_type": "markdown",
   "id": "f11381a1",
   "metadata": {},
   "source": [
    "# Q30 How many roles through 1980 were minor enough that they did not warrant a numeric \"n\" Rank?"
   ]
  },
  {
   "cell_type": "code",
   "execution_count": 38,
   "id": "e2150b5f",
   "metadata": {},
   "outputs": [
    {
     "name": "stdout",
     "output_type": "stream",
     "text": [
      "there are 438086 numbers of minor roles that did not got Rank\n"
     ]
    }
   ],
   "source": [
    "minor_role = data[(data['year']>=1894)&(data['year']<=1980)& data['n'].isna()]\n",
    "total_1980 = len(minor_role)\n",
    "print(f\"there are {total_1980} numbers of minor roles that did not got Rank\")"
   ]
  }
 ],
 "metadata": {
  "kernelspec": {
   "display_name": "Python 3 (ipykernel)",
   "language": "python",
   "name": "python3"
  },
  "language_info": {
   "codemirror_mode": {
    "name": "ipython",
    "version": 3
   },
   "file_extension": ".py",
   "mimetype": "text/x-python",
   "name": "python",
   "nbconvert_exporter": "python",
   "pygments_lexer": "ipython3",
   "version": "3.11.3"
  }
 },
 "nbformat": 4,
 "nbformat_minor": 5
}
